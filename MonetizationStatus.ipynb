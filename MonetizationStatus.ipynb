{
 "cells": [
  {
   "cell_type": "code",
   "execution_count": null,
   "metadata": {
    "collapsed": true
   },
   "outputs": [],
   "source": [
    "from bs4 import BeautifulSoup\n",
    "from selenium import webdriver\n",
    "from selenium.common.exceptions import NoSuchElementException, TimeoutException\n",
    "from selenium.webdriver.common.by import By\n",
    "from selenium.webdriver.support.ui import WebDriverWait\n",
    "from selenium.webdriver.support import expected_conditions as EC\n",
    "import csv\n",
    "import time"
   ]
  },
  {
   "cell_type": "code",
   "execution_count": null,
   "metadata": {
    "collapsed": true
   },
   "outputs": [],
   "source": [
    "# we will define a URL\n",
    "# and request the URL content using the Chrome browser driver\n",
    "chrome_path = r\"C:\\Users\\Rachel\\chromedriver_win32\\chromedriver.exe\"\n",
    "driver = webdriver.Chrome(chrome_path)\n",
    "driver.get(\"https://www.youtube.com/watch?v=5uXsCaakZD8\")#this can be replaced by any individual youtube link\n",
    "\n",
    "#YouTube's API will not let me scrape multiple URLs,\n",
    "#so the links have to be done one at a time.\n",
    "\n",
    "# The HTML code for the web page is stored in the html variable\n",
    "html = driver.page_source\n",
    "\n",
    "# we will use the soup object to parse HTML\n",
    "soup = BeautifulSoup(html, \"lxml\")\n",
    "\n",
    "ads =bool(soup.findAll('div', class_ = ['videoAdUiPreskipTextvideoAdUiPreviewText','videoAdUiAttribution','video-ads']))\n",
    "\n",
    "print (monetized)"
   ]
  },
  {
   "cell_type": "code",
   "execution_count": null,
   "metadata": {
    "collapsed": true
   },
   "outputs": [],
   "source": []
  }
 ],
 "metadata": {
  "kernelspec": {
   "display_name": "Python 3",
   "language": "python",
   "name": "python3"
  },
  "language_info": {
   "codemirror_mode": {
    "name": "ipython",
    "version": 3
   },
   "file_extension": ".py",
   "mimetype": "text/x-python",
   "name": "python",
   "nbconvert_exporter": "python",
   "pygments_lexer": "ipython3",
   "version": "3.6.3"
  }
 },
 "nbformat": 4,
 "nbformat_minor": 2
}
